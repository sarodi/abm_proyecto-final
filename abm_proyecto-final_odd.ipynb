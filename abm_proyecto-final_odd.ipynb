{
 "cells": [
  {
   "cell_type": "markdown",
   "metadata": {},
   "source": [
    "# Protocolo ODD\n",
    "## Modelos Basados en Agentes\n",
    "### Equipo 1"
   ]
  },
  {
   "cell_type": "markdown",
   "metadata": {},
   "source": [
    "## Overview"
   ]
  },
  {
   "cell_type": "markdown",
   "metadata": {},
   "source": [
    "### Purpose"
   ]
  },
  {
   "cell_type": "markdown",
   "metadata": {},
   "source": [
    "En este apartado explicamos el contexto e información general del modelo.\n",
    "\n",
    "El propósito de este modelo es hacer una representación del congestionamiento en los servicios concesionados de cafetería en un centro CONACYT. "
   ]
  },
  {
   "cell_type": "markdown",
   "metadata": {},
   "source": [
    "### State variables and scales"
   ]
  },
  {
   "cell_type": "markdown",
   "metadata": {},
   "source": [
    "En este apartado explicamos la estructura del sistema dentro del modelo.\n",
    "\n",
    "El modelo describe individuos. Algunos son consumidores y otros son proveedores de servicio. El ambiente abiotico  es el espacio de cafetería. El espacio existe de forma permanente pero se activa entre las 12:30 pm y las 15:30 pm. \n",
    "\n",
    "State variables: Los individuos tienen las siguientes características: clase a la que asisten y ubicación\n",
    "\n",
    "Variables auxiliares: Tamaño de la población, densidad de comida.\n",
    "\n",
    "Higher level entities: Población de comensales, población de prestadores de servicio. Comunidad compuesta por ambas poblaciones.\n",
    "\n",
    "Escalas: El horizonte temporal refleja el horario de servicio: de 12:30 a 15:30. LEnght of time steps es N. El tamaño de cada celda es 1m2"
   ]
  },
  {
   "cell_type": "markdown",
   "metadata": {},
   "source": [
    "### Process overview and scheduling"
   ]
  },
  {
   "cell_type": "markdown",
   "metadata": {},
   "source": [
    "Procesos individuales: Movimiento\n",
    "Procesos ambientales: Producción de comida\n",
    "\n",
    "Scheduling.\n",
    "\n",
    "Tiempo. \n",
    "\n",
    "El el ABM se modela el tiempo como continuo. \n",
    "Acciones que se ejecutan al mismo tiempo. \n",
    "Efecto sincrónico con state variables. \n",
    "Acciones que suceden de acuerdo a un horario fijo y su orden. \n",
    "Acción que se ejecuta al azar. \n",
    "La base para la programación de estas decisiones es la observación realizada por los autores durante el periodo 2016-2019. Diagrama de flujo explicando los componentes anteriores."
   ]
  },
  {
   "cell_type": "markdown",
   "metadata": {},
   "source": [
    "## Diseño"
   ]
  },
  {
   "cell_type": "markdown",
   "metadata": {},
   "source": [
    "### Design concepts"
   ]
  },
  {
   "cell_type": "markdown",
   "metadata": {},
   "source": [
    "Emergence. \n",
    "\n",
    "Fenómeno que emerge de características individuales:\n",
    "Fenómeno impuesto a los individuos:\n",
    "\n",
    "Adaptation.\n",
    "\n",
    "Características de los individuos que se adapten en respuesta al cambio propio o del ambiente.\n",
    "\n",
    "Fitness.\n",
    "\n",
    "Objetivos que buscan los agentes. En el modelo, los agentes buscan realizar la actividad dentro del tiempo que tienen destinado a ella.\n",
    "\n",
    "Prediction.\n",
    "\n",
    "Al estimar consecuencias de sus decisiones, cómo predicen sus condiciones futuras.\n",
    "\n",
    "\n",
    "Sensing.\n",
    "\n",
    "Las variables que los agentes conocen o sienten y consideran en sus decisiones adaptativas.\n",
    "\n",
    "Interaction.\n",
    "\n",
    "Interacciones que se asumen entre los agentes\n",
    "\n",
    "Stochasticity.\n",
    "\n",
    "Aleatoriedad en el modelo y razones.\n",
    "\n",
    "Collectives.\n",
    "\n",
    "Collectivos en los que se agrupan los individuos\n",
    "\n",
    "\n",
    "Observation.\n",
    "\n",
    "Cómo se recolecta la información del modelo para propósitos de probar, entender y analizar la información generada.\n"
   ]
  },
  {
   "cell_type": "markdown",
   "metadata": {},
   "source": [
    "## Detalles"
   ]
  },
  {
   "cell_type": "markdown",
   "metadata": {},
   "source": [
    "### Initialization"
   ]
  },
  {
   "cell_type": "markdown",
   "metadata": {},
   "source": [
    "En este apartado explicamos cómo es el entorno y los individuos al inicio de la simulación.\n",
    "\n",
    "El entorno está ocupado solamente por el personal de servicio y no hay agentes comensales al inicio. Estos van llegando conforme pasa el tiempo.\n",
    "La inicialización siempre es la misma, no varía con cada simulación. Los valores iniciales estan basados en datos recolectados por los autores."
   ]
  },
  {
   "cell_type": "markdown",
   "metadata": {},
   "source": [
    "### Input"
   ]
  },
  {
   "cell_type": "markdown",
   "metadata": {},
   "source": [
    "En este apartado explicamos condiciones ambientales que cambian con el tiempo.\n",
    "\n",
    "Nuestro modelo, en su forma más sencilla, no tiene condiciones ambientales que cambien con el tiempo."
   ]
  },
  {
   "cell_type": "markdown",
   "metadata": {},
   "source": [
    "### Submodels"
   ]
  },
  {
   "cell_type": "markdown",
   "metadata": {},
   "source": [
    "En este apartado describimos la formulación del modelo y una descripción detallada y completa del mismo.\n",
    "\n",
    "Ecuaciones del modelo y reglas\n",
    "\n",
    "Tabla con parámetros y dimensiones\n",
    "\n",
    "Explicación de cada ecuación y parámetro con supuestos y elección de parámetros."
   ]
  }
 ],
 "metadata": {
  "kernelspec": {
   "display_name": "Python 3",
   "language": "python",
   "name": "python3"
  },
  "language_info": {
   "codemirror_mode": {
    "name": "ipython",
    "version": 3
   },
   "file_extension": ".py",
   "mimetype": "text/x-python",
   "name": "python",
   "nbconvert_exporter": "python",
   "pygments_lexer": "ipython3",
   "version": "3.7.3"
  }
 },
 "nbformat": 4,
 "nbformat_minor": 2
}
